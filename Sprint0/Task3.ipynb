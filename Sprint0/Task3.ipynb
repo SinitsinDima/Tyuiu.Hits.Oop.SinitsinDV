{
 "cells": [
  {
   "cell_type": "markdown",
   "metadata": {},
   "source": [
    "<h1 style=\"color:DodgerBlue\">Индивидальный проект</h1>"
   ]
  },
  {
   "cell_type": "markdown",
   "metadata": {},
   "source": [
    "<h2 style=\"color:DodgerBlue\">Название проекта:</h2>\n",
    "\n",
    "----\n",
    "\n",
    "### Вариант задания \n",
    "№ 21"
   ]
  },
  {
   "cell_type": "markdown",
   "metadata": {},
   "source": [
    "<h2 style=\"color:DodgerBlue\">Описание проекта:</h2>\n",
    "\n",
    "----\n",
    "\n",
    "Создать базовый класс Ticket в C#, который будет представлять билеты на\n",
    "различные мероприятия. На основе этого класса разработать 2-3 производных\n",
    "класса, демонстрирующих принципы наследования и полиморфизма. В каждом из\n",
    "классов должны быть реализованы новые атрибуты и методы, а также\n",
    "переопределены некоторые методы базового класса для демонстрации\n",
    "полиморфизма.\n",
    "Требования к базовому классу Ticket:\n",
    "• Атрибуты: ID билета (TicketId), Номер ряда (RowNumber), Номер места\n",
    "(SeatNumber).\n",
    "• Методы:\n",
    "o PrintTicketInfo(): метод для печати информации о билете.\n",
    "o ReserveSeat(): метод для резервирования места.\n",
    "o GetTicketDetails(): метод для получения деталей билета.\n",
    "Требования к производным классам:\n",
    "1. БилетНаКонцерт (ConcertTicket): Должен содержать дополнительные\n",
    "атрибуты, такие как Имя исполнителя (ArtistName).\n",
    "Метод PrintTicketInfo() должен быть переопределен для включения имени\n",
    "исполнителя в информацию о билете.\n",
    "2. БилетНаСпектакль (PlayTicket): Должен содержать дополнительные\n",
    "атрибуты, такие как Название спектакля (PlayTitle).\n",
    "Метод GetTicketDetails() должен быть переопределен для отображения\n",
    "названия спектакля вместе с другими деталями билета.\n",
    "3. БилетНаКонференцию (ConferenceTicket) (если требуется третий класс):\n",
    "Должен содержать дополнительные атрибуты, такие как Название\n",
    "конференции (ConferenceName). Метод ReserveSeat() должен быть\n",
    "переопределен для добавления информации о предпочтениях участника\n",
    "относительно мест.\n"
   ]
  },
  {
   "cell_type": "markdown",
   "metadata": {},
   "source": [
    "<h2 style=\"color:DodgerBlue\">Реализация:</h2>\n",
    "\n",
    "----"
   ]
  },
  {
   "cell_type": "code",
   "execution_count": 1,
   "metadata": {
    "dotnet_interactive": {
     "language": "csharp"
    },
    "polyglot_notebook": {
     "kernelName": "csharp"
    }
   },
   "outputs": [
    {
     "name": "stdout",
     "output_type": "stream",
     "text": [
      "[Концерт] Билет #1: Imagine Dragons, ряд 5, место 12\n",
      "Билет #2: ряд 3, место 8\n",
      "[Спектакль] Гамлет — Ticket ID: 2, Row: 3, Seat: 8, Reserved: False\n",
      "Билет #3: ряд 10, место 21\n",
      "Предпочтение: Ближе к сцене\n",
      "Место 21 в ряду 10 успешно забронировано!\n"
     ]
    }
   ],
   "source": [
    "using System;\n",
    "\n",
    "// Базовый класс Ticket\n",
    "public class Ticket\n",
    "{\n",
    "    public int TicketId { get; set; }\n",
    "    public int RowNumber { get; set; }\n",
    "    public int SeatNumber { get; set; }\n",
    "    public bool IsReserved { get; private set; }\n",
    "\n",
    "    public Ticket(int ticketId, int rowNumber, int seatNumber)\n",
    "    {\n",
    "        TicketId = ticketId;\n",
    "        RowNumber = rowNumber;\n",
    "        SeatNumber = seatNumber;\n",
    "        IsReserved = false;\n",
    "    }\n",
    "\n",
    "    public virtual void PrintTicketInfo()\n",
    "    {\n",
    "        Console.WriteLine($\"Билет #{TicketId}: ряд {RowNumber}, место {SeatNumber}\");\n",
    "    }\n",
    "\n",
    "    public virtual void ReserveSeat()\n",
    "    {\n",
    "        if (!IsReserved)\n",
    "        {\n",
    "            IsReserved = true;\n",
    "            Console.WriteLine($\"Место {SeatNumber} в ряду {RowNumber} успешно забронировано!\");\n",
    "        }\n",
    "        else\n",
    "        {\n",
    "            Console.WriteLine(\"Это место уже забронировано.\");\n",
    "        }\n",
    "    }\n",
    "\n",
    "    public virtual string GetTicketDetails()\n",
    "    {\n",
    "        return $\"Ticket ID: {TicketId}, Row: {RowNumber}, Seat: {SeatNumber}, Reserved: {IsReserved}\";\n",
    "    }\n",
    "}\n",
    "\n",
    "// Класс для билета на концерт\n",
    "public class ConcertTicket : Ticket\n",
    "{\n",
    "    public string ArtistName { get; set; }\n",
    "\n",
    "    public ConcertTicket(int ticketId, int rowNumber, int seatNumber, string artistName)\n",
    "        : base(ticketId, rowNumber, seatNumber)\n",
    "    {\n",
    "        ArtistName = artistName;\n",
    "    }\n",
    "\n",
    "    public override void PrintTicketInfo()\n",
    "    {\n",
    "        Console.WriteLine($\"[Концерт] Билет #{TicketId}: {ArtistName}, ряд {RowNumber}, место {SeatNumber}\");\n",
    "    }\n",
    "}\n",
    "\n",
    "// Класс для билета на спектакль\n",
    "public class PlayTicket : Ticket\n",
    "{\n",
    "    public string PlayTitle { get; set; }\n",
    "\n",
    "    public PlayTicket(int ticketId, int rowNumber, int seatNumber, string playTitle)\n",
    "        : base(ticketId, rowNumber, seatNumber)\n",
    "    {\n",
    "        PlayTitle = playTitle;\n",
    "    }\n",
    "\n",
    "    public override string GetTicketDetails()\n",
    "    {\n",
    "        return $\"[Спектакль] {PlayTitle} — Ticket ID: {TicketId}, Row: {RowNumber}, Seat: {SeatNumber}, Reserved: {IsReserved}\";\n",
    "    }\n",
    "}\n",
    "\n",
    "// Класс для билета на конференцию\n",
    "public class ConferenceTicket : Ticket\n",
    "{\n",
    "    public string ConferenceName { get; set; }\n",
    "    public string SeatPreference { get; set; }\n",
    "\n",
    "    public ConferenceTicket(int ticketId, int rowNumber, int seatNumber, string conferenceName)\n",
    "        : base(ticketId, rowNumber, seatNumber)\n",
    "    {\n",
    "        ConferenceName = conferenceName;\n",
    "    }\n",
    "\n",
    "    public override void ReserveSeat()\n",
    "    {\n",
    "        if (!string.IsNullOrEmpty(SeatPreference))\n",
    "        {\n",
    "            Console.WriteLine($\"Предпочтение: {SeatPreference}\");\n",
    "        }\n",
    "        base.ReserveSeat();\n",
    "    }\n",
    "}\n",
    "\n",
    "// =======================\n",
    "// Демонстрация работыы\n",
    "// =======================\n",
    "\n",
    "Ticket concertTicket = new ConcertTicket(1, 5, 12, \"Imagine Dragons\");\n",
    "Ticket playTicket = new PlayTicket(2, 3, 8, \"Гамлет\");\n",
    "ConferenceTicket conferenceTicket = new ConferenceTicket(3, 10, 21, \"TechConf 2025\")\n",
    "{\n",
    "    SeatPreference = \"Ближе к сцене\"\n",
    "};\n",
    "\n",
    "// Демонстрация полиморфизма\n",
    "concertTicket.PrintTicketInfo();\n",
    "playTicket.PrintTicketInfo();\n",
    "Console.WriteLine(playTicket.GetTicketDetails());\n",
    "\n",
    "conferenceTicket.PrintTicketInfo();\n",
    "conferenceTicket.ReserveSeat();\n"
   ]
  }
 ],
 "metadata": {
  "kernelspec": {
   "display_name": ".NET (C#)",
   "language": "C#",
   "name": ".net-csharp"
  },
  "polyglot_notebook": {
   "kernelInfo": {
    "defaultKernelName": "csharp",
    "items": [
     {
      "aliases": [],
      "languageName": "csharp",
      "name": "csharp"
     }
    ]
   }
  }
 },
 "nbformat": 4,
 "nbformat_minor": 2
}
